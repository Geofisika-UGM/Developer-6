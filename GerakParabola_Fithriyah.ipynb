{
 "cells": [
  {
   "cell_type": "code",
   "execution_count": 1,
   "metadata": {},
   "outputs": [],
   "source": [
    "import matplotlib.pyplot as plt\n",
    "import math as mt\n",
    "def frange(start, stop=None, step=None):\n",
    "    start = float(start)\n",
    "    if stop == None:\n",
    "        stop = start + 0.0\n",
    "        start = 0.0\n",
    "    if step == None:\n",
    "        step = 1.0\n",
    "\n",
    "    print(\"start = \", start, \"stop = \", stop, \"step = \", step)\n",
    "\n",
    "    count = 0\n",
    "    while True:\n",
    "        temp = float(start + count * step)\n",
    "        if step > 0 and temp >= stop:\n",
    "            break\n",
    "        elif step < 0 and temp <= stop:\n",
    "            break\n",
    "        yield temp\n",
    "        count += 1\n",
    "\n",
    "def parabola(vo,agl,x1,y1):\n",
    "    X = []\n",
    "    Y = []\n",
    "    \n",
    "\n",
    "    Sin = mt.sin(mt.radians(agl))\n",
    "    Cos = mt.cos(mt.radians(agl))\n",
    "\n",
    "    g = 9.8\n",
    "    w = float((2 * vo * Sin) / g)\n",
    "\n",
    "    atas = float(mt.pow(vo,2) * mt.pow(Sin,2))\n",
    "    bawah = float(2*g)\n",
    "    hMax = float(atas/bawah)\n",
    "    R = vo * Cos * w\n",
    "    g = g * -1\n",
    "\n",
    "    posX = x1\n",
    "    posY = y1\n",
    "\n",
    "    voX = float(vo * Cos)\n",
    "    voY = float(vo * Sin)\n",
    "\n",
    "\n",
    "\n",
    "    X.append(posX)\n",
    "    Y.append(posY)\n",
    "\n",
    "    for t in frange(0,w+0.1,0.1):\n",
    "    \n",
    "        posX = voX * t\n",
    "        X.append(posX)\n",
    "        posY = vo * t * Sin + (0.5 * g * mt.pow(t,2))\n",
    "        Y.append(posY)\n",
    "     \n",
    "        if posY < 0:\n",
    "            print('Waktu Analitik ketika menyentuh tanah : ',t)\n",
    "            print('Jarak Maksimal dari Analitik ',posX)\n",
    "            print('\\n')\n",
    "            break\n",
    "      \n",
    "    \n",
    "    print('Waktu Total : ',w)\n",
    "    plt.xlabel('Jarak')\n",
    "    plt.ylabel('Ketinggian')\n",
    "    plt.plot(X,Y)\n",
    "    plt.xlim(0,R+1)\n",
    "    plt.ylim(0,hMax+0.1)\n",
    "    print ('Jarak Maksimum : ',R)\n",
    "    print ('Tinggi Maksimum : ',hMax)\n",
    "    plt.show()\n"
   ]
  },
  {
   "cell_type": "code",
   "execution_count": 2,
   "metadata": {},
   "outputs": [
    {
     "name": "stdout",
     "output_type": "stream",
     "text": [
      "start =  0.0 stop =  5.382021328622871 step =  0.1\n",
      "Waktu Analitik ketika menyentuh tanah :  5.300000000000001\n",
      "Jarak Maksimal dari Analitik  511.9406879332062\n",
      "\n",
      "\n",
      "Waktu Total :  5.282021328622871\n",
      "Jarak Maksimum :  510.2040816326529\n",
      "Tinggi Maksimum :  34.17719291213299\n"
     ]
    },
    {
     "data": {
      "image/png": "[encoded data removed]",
      "text/plain": [
       "<Figure size 432x288 with 1 Axes>"
      ]
     },
     "metadata": {
      "needs_background": "light"
     },
     "output_type": "display_data"
    }
   ],
   "source": [
    "from parabola import parabola\n",
    "parabola(100,15,0,0)"
   ]
  }
 ],
 "metadata": {
  "kernelspec": {
   "display_name": "Python 3.9.12 ('base')",
   "language": "python",
   "name": "python3"
  },
  "language_info": {
   "codemirror_mode": {
    "name": "ipython",
    "version": 3
   },
   "file_extension": ".py",
   "mimetype": "text/x-python",
   "name": "python",
   "nbconvert_exporter": "python",
   "pygments_lexer": "ipython3",
   "version": "3.9.12"
  },
  "orig_nbformat": 4,
  "vscode": {
   "interpreter": {
    "hash": "9c1d5a056f04d97314a9f946bc8c5185004572d3d68312220c0ba298420421f7"
   }
  }
 },
 "nbformat": 4,
 "nbformat_minor": 2
}
